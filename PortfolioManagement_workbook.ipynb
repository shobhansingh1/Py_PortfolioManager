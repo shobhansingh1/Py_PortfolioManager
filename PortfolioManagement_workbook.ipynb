{
 "cells": [
  {
   "cell_type": "code",
   "execution_count": 12,
   "metadata": {},
   "outputs": [
    {
     "name": "stderr",
     "output_type": "stream",
     "text": [
      "C:\\Users\\shobh\\Anaconda3\\lib\\site-packages\\pandas_datareader\\compat\\__init__.py:7: FutureWarning: pandas.util.testing is deprecated. Use the functions in the public API at pandas.testing instead.\n",
      "  from pandas.util.testing import assert_frame_equal\n"
     ]
    }
   ],
   "source": [
    "#This workbook is for practicing/creating financial charts and analysis\n",
    "#Base code from Seminar on \"Why Python is huge in finance? by Daniel Roos\" \n",
    "\n",
    "# To enable directory browsing on Home Page in Jupyter Notebook\n",
    "# Open anaconda cmd prompt, execute 'jupyter notebook --generate-config'\n",
    "# config file is created at C:\\Users\\[user]\\.jupyter\\\n",
    "# uncomment/enable the following flag and add directory path \n",
    "# c.NotebookApp.notebook_dir = 'C:\\\\[dir path here]' \n",
    "\n",
    "import os\n",
    "import random\n",
    "import pandas_datareader.data as web\n",
    "import pandas as pd\n",
    "import datetime\n",
    "import numpy as np\n",
    "from ipywidgets import interact, fixed, IntSlider\n",
    "import matplotlib.pyplot as plt\n",
    "from numpy.linalg import cholesky\n",
    "import seaborn as sns\n",
    "\n",
    "#cache data for period\n",
    "all_data_start, all_data_end = '2019-05-01','2020-05-01'\n",
    "# By default work with adta in this period\n",
    "default_start, default_end = '2019-03-15','2020-05-01'"
   ]
  },
  {
   "cell_type": "code",
   "execution_count": 26,
   "metadata": {},
   "outputs": [],
   "source": [
    "#set up the Quandl Api Key (need to be executed once - can use python cmd promt)\n",
    "#os.environ['QUANDL_API_KEY'] = \"Key Here\""
   ]
  },
  {
   "cell_type": "markdown",
   "metadata": {},
   "source": [
    "## Get Stock Data"
   ]
  },
  {
   "cell_type": "code",
   "execution_count": 59,
   "metadata": {},
   "outputs": [],
   "source": [
    "\"\"\"QUANDL\"\"\"\n",
    "#pandas datareader\n",
    "aapl = web.DataReader('AAPL.US', 'quandl', '2018-01-01', '2019-01-01')\n",
    "#aapl = web.DataReader('AAPL.US', 'quandl', '2019-02-01', '2019-03-01')"
   ]
  },
  {
   "cell_type": "code",
   "execution_count": 60,
   "metadata": {
    "scrolled": false
   },
   "outputs": [
    {
     "data": {
      "text/html": [
       "<div>\n",
       "<style scoped>\n",
       "    .dataframe tbody tr th:only-of-type {\n",
       "        vertical-align: middle;\n",
       "    }\n",
       "\n",
       "    .dataframe tbody tr th {\n",
       "        vertical-align: top;\n",
       "    }\n",
       "\n",
       "    .dataframe thead th {\n",
       "        text-align: right;\n",
       "    }\n",
       "</style>\n",
       "<table border=\"1\" class=\"dataframe\">\n",
       "  <thead>\n",
       "    <tr style=\"text-align: right;\">\n",
       "      <th></th>\n",
       "      <th>Open</th>\n",
       "      <th>High</th>\n",
       "      <th>Low</th>\n",
       "      <th>Close</th>\n",
       "      <th>Volume</th>\n",
       "      <th>ExDividend</th>\n",
       "      <th>SplitRatio</th>\n",
       "      <th>AdjOpen</th>\n",
       "      <th>AdjHigh</th>\n",
       "      <th>AdjLow</th>\n",
       "      <th>AdjClose</th>\n",
       "      <th>AdjVolume</th>\n",
       "    </tr>\n",
       "    <tr>\n",
       "      <th>Date</th>\n",
       "      <th></th>\n",
       "      <th></th>\n",
       "      <th></th>\n",
       "      <th></th>\n",
       "      <th></th>\n",
       "      <th></th>\n",
       "      <th></th>\n",
       "      <th></th>\n",
       "      <th></th>\n",
       "      <th></th>\n",
       "      <th></th>\n",
       "      <th></th>\n",
       "    </tr>\n",
       "  </thead>\n",
       "  <tbody>\n",
       "    <tr>\n",
       "      <th>2018-03-27</th>\n",
       "      <td>173.68</td>\n",
       "      <td>175.15</td>\n",
       "      <td>166.92</td>\n",
       "      <td>168.340</td>\n",
       "      <td>38962839.0</td>\n",
       "      <td>0.0</td>\n",
       "      <td>1.0</td>\n",
       "      <td>173.68</td>\n",
       "      <td>175.15</td>\n",
       "      <td>166.92</td>\n",
       "      <td>168.340</td>\n",
       "      <td>38962839.0</td>\n",
       "    </tr>\n",
       "    <tr>\n",
       "      <th>2018-03-26</th>\n",
       "      <td>168.07</td>\n",
       "      <td>173.10</td>\n",
       "      <td>166.44</td>\n",
       "      <td>172.770</td>\n",
       "      <td>36272617.0</td>\n",
       "      <td>0.0</td>\n",
       "      <td>1.0</td>\n",
       "      <td>168.07</td>\n",
       "      <td>173.10</td>\n",
       "      <td>166.44</td>\n",
       "      <td>172.770</td>\n",
       "      <td>36272617.0</td>\n",
       "    </tr>\n",
       "    <tr>\n",
       "      <th>2018-03-23</th>\n",
       "      <td>168.39</td>\n",
       "      <td>169.92</td>\n",
       "      <td>164.94</td>\n",
       "      <td>164.940</td>\n",
       "      <td>40248954.0</td>\n",
       "      <td>0.0</td>\n",
       "      <td>1.0</td>\n",
       "      <td>168.39</td>\n",
       "      <td>169.92</td>\n",
       "      <td>164.94</td>\n",
       "      <td>164.940</td>\n",
       "      <td>40248954.0</td>\n",
       "    </tr>\n",
       "    <tr>\n",
       "      <th>2018-03-22</th>\n",
       "      <td>170.00</td>\n",
       "      <td>172.68</td>\n",
       "      <td>168.60</td>\n",
       "      <td>168.845</td>\n",
       "      <td>41051076.0</td>\n",
       "      <td>0.0</td>\n",
       "      <td>1.0</td>\n",
       "      <td>170.00</td>\n",
       "      <td>172.68</td>\n",
       "      <td>168.60</td>\n",
       "      <td>168.845</td>\n",
       "      <td>41051076.0</td>\n",
       "    </tr>\n",
       "    <tr>\n",
       "      <th>2018-03-21</th>\n",
       "      <td>175.04</td>\n",
       "      <td>175.09</td>\n",
       "      <td>171.26</td>\n",
       "      <td>171.270</td>\n",
       "      <td>35247358.0</td>\n",
       "      <td>0.0</td>\n",
       "      <td>1.0</td>\n",
       "      <td>175.04</td>\n",
       "      <td>175.09</td>\n",
       "      <td>171.26</td>\n",
       "      <td>171.270</td>\n",
       "      <td>35247358.0</td>\n",
       "    </tr>\n",
       "  </tbody>\n",
       "</table>\n",
       "</div>"
      ],
      "text/plain": [
       "              Open    High     Low    Close      Volume  ExDividend  \\\n",
       "Date                                                                  \n",
       "2018-03-27  173.68  175.15  166.92  168.340  38962839.0         0.0   \n",
       "2018-03-26  168.07  173.10  166.44  172.770  36272617.0         0.0   \n",
       "2018-03-23  168.39  169.92  164.94  164.940  40248954.0         0.0   \n",
       "2018-03-22  170.00  172.68  168.60  168.845  41051076.0         0.0   \n",
       "2018-03-21  175.04  175.09  171.26  171.270  35247358.0         0.0   \n",
       "\n",
       "            SplitRatio  AdjOpen  AdjHigh  AdjLow  AdjClose   AdjVolume  \n",
       "Date                                                                    \n",
       "2018-03-27         1.0   173.68   175.15  166.92   168.340  38962839.0  \n",
       "2018-03-26         1.0   168.07   173.10  166.44   172.770  36272617.0  \n",
       "2018-03-23         1.0   168.39   169.92  164.94   164.940  40248954.0  \n",
       "2018-03-22         1.0   170.00   172.68  168.60   168.845  41051076.0  \n",
       "2018-03-21         1.0   175.04   175.09  171.26   171.270  35247358.0  "
      ]
     },
     "execution_count": 60,
     "metadata": {},
     "output_type": "execute_result"
    }
   ],
   "source": [
    "aapl.head()"
   ]
  },
  {
   "cell_type": "code",
   "execution_count": 109,
   "metadata": {},
   "outputs": [
    {
     "data": {
      "text/html": [
       "<div>\n",
       "<style scoped>\n",
       "    .dataframe tbody tr th:only-of-type {\n",
       "        vertical-align: middle;\n",
       "    }\n",
       "\n",
       "    .dataframe tbody tr th {\n",
       "        vertical-align: top;\n",
       "    }\n",
       "\n",
       "    .dataframe thead th {\n",
       "        text-align: right;\n",
       "    }\n",
       "</style>\n",
       "<table border=\"1\" class=\"dataframe\">\n",
       "  <thead>\n",
       "    <tr style=\"text-align: right;\">\n",
       "      <th></th>\n",
       "      <th>Open</th>\n",
       "      <th>High</th>\n",
       "      <th>Low</th>\n",
       "      <th>Close</th>\n",
       "      <th>Volume</th>\n",
       "      <th>ExDividend</th>\n",
       "      <th>SplitRatio</th>\n",
       "      <th>AdjOpen</th>\n",
       "      <th>AdjHigh</th>\n",
       "      <th>AdjLow</th>\n",
       "      <th>AdjClose</th>\n",
       "      <th>AdjVolume</th>\n",
       "    </tr>\n",
       "    <tr>\n",
       "      <th>Date</th>\n",
       "      <th></th>\n",
       "      <th></th>\n",
       "      <th></th>\n",
       "      <th></th>\n",
       "      <th></th>\n",
       "      <th></th>\n",
       "      <th></th>\n",
       "      <th></th>\n",
       "      <th></th>\n",
       "      <th></th>\n",
       "      <th></th>\n",
       "      <th></th>\n",
       "    </tr>\n",
       "  </thead>\n",
       "  <tbody>\n",
       "    <tr>\n",
       "      <th>2018-03-21</th>\n",
       "      <td>175.04</td>\n",
       "      <td>175.09</td>\n",
       "      <td>171.26</td>\n",
       "      <td>171.27</td>\n",
       "      <td>35247358.0</td>\n",
       "      <td>0.0</td>\n",
       "      <td>1.0</td>\n",
       "      <td>175.04</td>\n",
       "      <td>175.09</td>\n",
       "      <td>171.26</td>\n",
       "      <td>171.27</td>\n",
       "      <td>35247358.0</td>\n",
       "    </tr>\n",
       "    <tr>\n",
       "      <th>2018-03-20</th>\n",
       "      <td>175.24</td>\n",
       "      <td>176.80</td>\n",
       "      <td>174.94</td>\n",
       "      <td>175.24</td>\n",
       "      <td>19314039.0</td>\n",
       "      <td>0.0</td>\n",
       "      <td>1.0</td>\n",
       "      <td>175.24</td>\n",
       "      <td>176.80</td>\n",
       "      <td>174.94</td>\n",
       "      <td>175.24</td>\n",
       "      <td>19314039.0</td>\n",
       "    </tr>\n",
       "  </tbody>\n",
       "</table>\n",
       "</div>"
      ],
      "text/plain": [
       "              Open    High     Low   Close      Volume  ExDividend  \\\n",
       "Date                                                                 \n",
       "2018-03-21  175.04  175.09  171.26  171.27  35247358.0         0.0   \n",
       "2018-03-20  175.24  176.80  174.94  175.24  19314039.0         0.0   \n",
       "\n",
       "            SplitRatio  AdjOpen  AdjHigh  AdjLow  AdjClose   AdjVolume  \n",
       "Date                                                                    \n",
       "2018-03-21         1.0   175.04   175.09  171.26    171.27  35247358.0  \n",
       "2018-03-20         1.0   175.24   176.80  174.94    175.24  19314039.0  "
      ]
     },
     "execution_count": 109,
     "metadata": {},
     "output_type": "execute_result"
    }
   ],
   "source": [
    "aapl.Close.plot()\n",
    "\n",
    "# to search between date range - both works\n",
    "# aapl['2018-03-21': '2018-03-20'] #does not work with yfinance df return type \n",
    "# aapl.loc['2018-03-21': '2018-03-20'] #always work\n",
    "\n",
    "#To take account of stock split use AdjClose \n",
    "#aapl.AdjClose.plot()"
   ]
  },
  {
   "cell_type": "code",
   "execution_count": null,
   "metadata": {},
   "outputs": [],
   "source": [
    "#not available in quandl/last 1 year data not available in quandl free account\n",
    "#uso = web.DataReader('T.US', 'quandl', '2019-01-01', '2019-05-01')"
   ]
  },
  {
   "cell_type": "code",
   "execution_count": 62,
   "metadata": {},
   "outputs": [],
   "source": [
    "\"\"\"yfinance\"\"\"\n",
    "#using yfinance instead\n",
    "\n",
    "import yfinance as yf\n",
    "yf.pdr_override()\n",
    "\n",
    "uso = yf.Ticker(\"USO\")\n",
    "hist = uso.history(period=\"1y\")"
   ]
  },
  {
   "cell_type": "code",
   "execution_count": 121,
   "metadata": {},
   "outputs": [
    {
     "data": {
      "text/plain": [
       "<matplotlib.axes._subplots.AxesSubplot at 0x25592a5f4e0>"
      ]
     },
     "execution_count": 121,
     "metadata": {},
     "output_type": "execute_result"
    },
    {
     "data": {
      "image/png": "[encoded data removed]",
      "text/plain": [
       "<Figure size 432x288 with 1 Axes>"
      ]
     },
     "metadata": {},
     "output_type": "display_data"
    }
   ],
   "source": [
    "# this is already adjusted for stock splits\n",
    "\n",
    "hist['Close'].plot()\n",
    "#hist['Close'].plot(figsize=(16, 9))"
   ]
  },
  {
   "cell_type": "markdown",
   "metadata": {},
   "source": [
    "## Cache Stock Data"
   ]
  },
  {
   "cell_type": "code",
   "execution_count": 125,
   "metadata": {},
   "outputs": [],
   "source": [
    "# Function to cache new data/load cache data\n",
    "cached_data = {} #dict\n",
    "def stock_hist(symbol, start = None, end = None):\n",
    "    \"\"\"function to get cached data\"\"\"\n",
    "    start = start if start else default_start #if none, set default value\n",
    "    end = end if end else default_end\n",
    "    if not symbol in cached_data:\n",
    "        \"\"\"quindl\"\"\"\n",
    "        #cached_data[symbol] = web.DataReader(symbol + '.US', 'quandl', all_data_start, all_data_end)\n",
    "        \"\"\"yfinance\"\"\"\n",
    "        #get entire data for default period\n",
    "        cached_data[symbol] = web.get_data_yahoo(symbol, all_data_start, all_data_end)\n",
    "        print(f\"Loaded {symbol} rows in cache: {len(cached_data[symbol])}\")\n",
    "    return cached_data[symbol].loc[start:end]"
   ]
  },
  {
   "cell_type": "code",
   "execution_count": 126,
   "metadata": {},
   "outputs": [
    {
     "name": "stdout",
     "output_type": "stream",
     "text": [
      "Loaded USO rows in cache: 254\n"
     ]
    },
    {
     "data": {
      "text/html": [
       "<div>\n",
       "<style scoped>\n",
       "    .dataframe tbody tr th:only-of-type {\n",
       "        vertical-align: middle;\n",
       "    }\n",
       "\n",
       "    .dataframe tbody tr th {\n",
       "        vertical-align: top;\n",
       "    }\n",
       "\n",
       "    .dataframe thead th {\n",
       "        text-align: right;\n",
       "    }\n",
       "</style>\n",
       "<table border=\"1\" class=\"dataframe\">\n",
       "  <thead>\n",
       "    <tr style=\"text-align: right;\">\n",
       "      <th></th>\n",
       "      <th>High</th>\n",
       "      <th>Low</th>\n",
       "      <th>Open</th>\n",
       "      <th>Close</th>\n",
       "      <th>Volume</th>\n",
       "      <th>Adj Close</th>\n",
       "    </tr>\n",
       "    <tr>\n",
       "      <th>Date</th>\n",
       "      <th></th>\n",
       "      <th></th>\n",
       "      <th></th>\n",
       "      <th></th>\n",
       "      <th></th>\n",
       "      <th></th>\n",
       "    </tr>\n",
       "  </thead>\n",
       "  <tbody>\n",
       "    <tr>\n",
       "      <th>2020-01-02</th>\n",
       "      <td>102.800003</td>\n",
       "      <td>101.599998</td>\n",
       "      <td>102.400002</td>\n",
       "      <td>102.480003</td>\n",
       "      <td>1563600.0</td>\n",
       "      <td>102.480003</td>\n",
       "    </tr>\n",
       "    <tr>\n",
       "      <th>2020-01-03</th>\n",
       "      <td>106.559998</td>\n",
       "      <td>104.239998</td>\n",
       "      <td>106.160004</td>\n",
       "      <td>105.440002</td>\n",
       "      <td>4325500.0</td>\n",
       "      <td>105.440002</td>\n",
       "    </tr>\n",
       "    <tr>\n",
       "      <th>2020-01-06</th>\n",
       "      <td>106.559998</td>\n",
       "      <td>104.959999</td>\n",
       "      <td>106.400002</td>\n",
       "      <td>105.279999</td>\n",
       "      <td>2598400.0</td>\n",
       "      <td>105.279999</td>\n",
       "    </tr>\n",
       "    <tr>\n",
       "      <th>2020-01-07</th>\n",
       "      <td>105.440002</td>\n",
       "      <td>104.080002</td>\n",
       "      <td>104.800003</td>\n",
       "      <td>105.040001</td>\n",
       "      <td>1742100.0</td>\n",
       "      <td>105.040001</td>\n",
       "    </tr>\n",
       "    <tr>\n",
       "      <th>2020-01-08</th>\n",
       "      <td>104.559998</td>\n",
       "      <td>99.120003</td>\n",
       "      <td>104.480003</td>\n",
       "      <td>101.279999</td>\n",
       "      <td>6918400.0</td>\n",
       "      <td>101.279999</td>\n",
       "    </tr>\n",
       "    <tr>\n",
       "      <th>...</th>\n",
       "      <td>...</td>\n",
       "      <td>...</td>\n",
       "      <td>...</td>\n",
       "      <td>...</td>\n",
       "      <td>...</td>\n",
       "      <td>...</td>\n",
       "    </tr>\n",
       "    <tr>\n",
       "      <th>2020-04-27</th>\n",
       "      <td>18.400000</td>\n",
       "      <td>17.040001</td>\n",
       "      <td>18.400000</td>\n",
       "      <td>17.520000</td>\n",
       "      <td>33885000.0</td>\n",
       "      <td>17.520000</td>\n",
       "    </tr>\n",
       "    <tr>\n",
       "      <th>2020-04-28</th>\n",
       "      <td>18.000000</td>\n",
       "      <td>16.879999</td>\n",
       "      <td>17.280001</td>\n",
       "      <td>17.040001</td>\n",
       "      <td>155814800.0</td>\n",
       "      <td>17.040001</td>\n",
       "    </tr>\n",
       "    <tr>\n",
       "      <th>2020-04-29</th>\n",
       "      <td>18.219999</td>\n",
       "      <td>17.459999</td>\n",
       "      <td>18.010000</td>\n",
       "      <td>18.000000</td>\n",
       "      <td>23378600.0</td>\n",
       "      <td>18.000000</td>\n",
       "    </tr>\n",
       "    <tr>\n",
       "      <th>2020-04-30</th>\n",
       "      <td>19.299999</td>\n",
       "      <td>17.860001</td>\n",
       "      <td>18.760000</td>\n",
       "      <td>19.120001</td>\n",
       "      <td>24001300.0</td>\n",
       "      <td>19.120001</td>\n",
       "    </tr>\n",
       "    <tr>\n",
       "      <th>2020-05-01</th>\n",
       "      <td>19.180000</td>\n",
       "      <td>18.420000</td>\n",
       "      <td>19.120001</td>\n",
       "      <td>18.860001</td>\n",
       "      <td>13814700.0</td>\n",
       "      <td>18.860001</td>\n",
       "    </tr>\n",
       "  </tbody>\n",
       "</table>\n",
       "<p>84 rows × 6 columns</p>\n",
       "</div>"
      ],
      "text/plain": [
       "                  High         Low        Open       Close       Volume  \\\n",
       "Date                                                                      \n",
       "2020-01-02  102.800003  101.599998  102.400002  102.480003    1563600.0   \n",
       "2020-01-03  106.559998  104.239998  106.160004  105.440002    4325500.0   \n",
       "2020-01-06  106.559998  104.959999  106.400002  105.279999    2598400.0   \n",
       "2020-01-07  105.440002  104.080002  104.800003  105.040001    1742100.0   \n",
       "2020-01-08  104.559998   99.120003  104.480003  101.279999    6918400.0   \n",
       "...                ...         ...         ...         ...          ...   \n",
       "2020-04-27   18.400000   17.040001   18.400000   17.520000   33885000.0   \n",
       "2020-04-28   18.000000   16.879999   17.280001   17.040001  155814800.0   \n",
       "2020-04-29   18.219999   17.459999   18.010000   18.000000   23378600.0   \n",
       "2020-04-30   19.299999   17.860001   18.760000   19.120001   24001300.0   \n",
       "2020-05-01   19.180000   18.420000   19.120001   18.860001   13814700.0   \n",
       "\n",
       "             Adj Close  \n",
       "Date                    \n",
       "2020-01-02  102.480003  \n",
       "2020-01-03  105.440002  \n",
       "2020-01-06  105.279999  \n",
       "2020-01-07  105.040001  \n",
       "2020-01-08  101.279999  \n",
       "...                ...  \n",
       "2020-04-27   17.520000  \n",
       "2020-04-28   17.040001  \n",
       "2020-04-29   18.000000  \n",
       "2020-04-30   19.120001  \n",
       "2020-05-01   18.860001  \n",
       "\n",
       "[84 rows x 6 columns]"
      ]
     },
     "execution_count": 126,
     "metadata": {},
     "output_type": "execute_result"
    }
   ],
   "source": [
    "stock_hist(\"USO\", \"2020-01-01\", \"2020-05-01\")"
   ]
  },
  {
   "cell_type": "code",
   "execution_count": 126,
   "metadata": {},
   "outputs": [
    {
     "data": {
      "text/plain": [
       "dict"
      ]
     },
     "execution_count": 126,
     "metadata": {},
     "output_type": "execute_result"
    }
   ],
   "source": [
    "type(cached_data)"
   ]
  },
  {
   "cell_type": "code",
   "execution_count": 56,
   "metadata": {},
   "outputs": [],
   "source": [
    "\"\"\"Dump Data\"\"\"\n",
    "def dump_CacheData():\n",
    "    try:\n",
    "        import cPickle as pickle\n",
    "    except ImportError:  # python 3.x\n",
    "        import pickle\n",
    "        \n",
    "    #dump cache in file folder\n",
    "    with open('data.p', 'wb') as fp:\n",
    "        pickle.dump(cached_data, fp, protocol=pickle.HIGHEST_PROTOCOL)"
   ]
  },
  {
   "cell_type": "code",
   "execution_count": 127,
   "metadata": {},
   "outputs": [],
   "source": [
    "dump_CacheData()"
   ]
  },
  {
   "cell_type": "code",
   "execution_count": 51,
   "metadata": {},
   "outputs": [],
   "source": [
    "cache_data = {}\n",
    "def load_CacheData():\n",
    "    try:\n",
    "        import cPickle as pickle\n",
    "    except ImportError:  # python 3.x\n",
    "        import pickle\n",
    "        \n",
    "    #load dump cache from file folder\n",
    "    with open('data.p', 'rb') as fp:\n",
    "        cached_data = pickle.load(fp)"
   ]
  },
  {
   "cell_type": "code",
   "execution_count": 123,
   "metadata": {},
   "outputs": [],
   "source": [
    "cache_data = {}\n",
    "load_CacheData()"
   ]
  },
  {
   "cell_type": "code",
   "execution_count": 128,
   "metadata": {},
   "outputs": [
    {
     "name": "stdout",
     "output_type": "stream",
     "text": [
      "                  High         Low        Open       Close       Volume  \\\n",
      "Date                                                                      \n",
      "2019-05-01  106.480003  104.480003  106.239998  105.760002    3221400.0   \n",
      "2019-05-02  103.519997  101.519997  103.360001  102.559998    5288600.0   \n",
      "2019-05-03  104.080002  102.800003  102.959999  102.959999    3274200.0   \n",
      "2019-05-06  104.879997  102.320000  102.320000  104.559998    4741500.0   \n",
      "2019-05-07  102.800003  101.040001  102.239998  101.839996    3743100.0   \n",
      "...                ...         ...         ...         ...          ...   \n",
      "2020-04-27   18.400000   17.040001   18.400000   17.520000   33885000.0   \n",
      "2020-04-28   18.000000   16.879999   17.280001   17.040001  155814800.0   \n",
      "2020-04-29   18.219999   17.459999   18.010000   18.000000   23378600.0   \n",
      "2020-04-30   19.299999   17.860001   18.760000   19.120001   24001300.0   \n",
      "2020-05-01   19.180000   18.420000   19.120001   18.860001   13814700.0   \n",
      "\n",
      "             Adj Close  \n",
      "Date                    \n",
      "2019-05-01  105.760002  \n",
      "2019-05-02  102.559998  \n",
      "2019-05-03  102.959999  \n",
      "2019-05-06  104.559998  \n",
      "2019-05-07  101.839996  \n",
      "...                ...  \n",
      "2020-04-27   17.520000  \n",
      "2020-04-28   17.040001  \n",
      "2020-04-29   18.000000  \n",
      "2020-04-30   19.120001  \n",
      "2020-05-01   18.860001  \n",
      "\n",
      "[254 rows x 6 columns]\n"
     ]
    }
   ],
   "source": [
    "print(cached_data[\"USO\"])"
   ]
  },
  {
   "cell_type": "code",
   "execution_count": 30,
   "metadata": {},
   "outputs": [],
   "source": [
    "# if dates/data not available in data cache \n",
    "# then append the new dates/data to data_cache\n",
    "\n",
    "new_data = {}\n",
    "if (cached_data[\"USO\"].get(\"2019-04-25\") == None): #dict key check\n",
    "        new_data[\"USO\"] = web.get_data_yahoo(\"USO\", \"2019-04-25\", all_data_start)"
   ]
  },
  {
   "cell_type": "code",
   "execution_count": 114,
   "metadata": {},
   "outputs": [
    {
     "data": {
      "text/html": [
       "<div>\n",
       "<style scoped>\n",
       "    .dataframe tbody tr th:only-of-type {\n",
       "        vertical-align: middle;\n",
       "    }\n",
       "\n",
       "    .dataframe tbody tr th {\n",
       "        vertical-align: top;\n",
       "    }\n",
       "\n",
       "    .dataframe thead th {\n",
       "        text-align: right;\n",
       "    }\n",
       "</style>\n",
       "<table border=\"1\" class=\"dataframe\">\n",
       "  <thead>\n",
       "    <tr style=\"text-align: right;\">\n",
       "      <th></th>\n",
       "      <th>High</th>\n",
       "      <th>Low</th>\n",
       "      <th>Open</th>\n",
       "      <th>Close</th>\n",
       "      <th>Volume</th>\n",
       "      <th>Adj Close</th>\n",
       "    </tr>\n",
       "    <tr>\n",
       "      <th>Date</th>\n",
       "      <th></th>\n",
       "      <th></th>\n",
       "      <th></th>\n",
       "      <th></th>\n",
       "      <th></th>\n",
       "      <th></th>\n",
       "    </tr>\n",
       "  </thead>\n",
       "  <tbody>\n",
       "    <tr>\n",
       "      <th>2019-04-25</th>\n",
       "      <td>109.839996</td>\n",
       "      <td>108.000000</td>\n",
       "      <td>109.519997</td>\n",
       "      <td>108.239998</td>\n",
       "      <td>2195300.0</td>\n",
       "      <td>108.239998</td>\n",
       "    </tr>\n",
       "    <tr>\n",
       "      <th>2019-04-26</th>\n",
       "      <td>107.120003</td>\n",
       "      <td>103.680000</td>\n",
       "      <td>107.040001</td>\n",
       "      <td>104.720001</td>\n",
       "      <td>5269300.0</td>\n",
       "      <td>104.720001</td>\n",
       "    </tr>\n",
       "    <tr>\n",
       "      <th>2019-04-29</th>\n",
       "      <td>106.000000</td>\n",
       "      <td>104.400002</td>\n",
       "      <td>105.199997</td>\n",
       "      <td>105.839996</td>\n",
       "      <td>2926300.0</td>\n",
       "      <td>105.839996</td>\n",
       "    </tr>\n",
       "    <tr>\n",
       "      <th>2019-04-30</th>\n",
       "      <td>106.879997</td>\n",
       "      <td>105.440002</td>\n",
       "      <td>106.800003</td>\n",
       "      <td>106.320000</td>\n",
       "      <td>2096400.0</td>\n",
       "      <td>106.320000</td>\n",
       "    </tr>\n",
       "    <tr>\n",
       "      <th>2019-05-01</th>\n",
       "      <td>106.480003</td>\n",
       "      <td>104.480003</td>\n",
       "      <td>106.239998</td>\n",
       "      <td>105.760002</td>\n",
       "      <td>3221400.0</td>\n",
       "      <td>105.760002</td>\n",
       "    </tr>\n",
       "  </tbody>\n",
       "</table>\n",
       "</div>"
      ],
      "text/plain": [
       "                  High         Low        Open       Close     Volume  \\\n",
       "Date                                                                    \n",
       "2019-04-25  109.839996  108.000000  109.519997  108.239998  2195300.0   \n",
       "2019-04-26  107.120003  103.680000  107.040001  104.720001  5269300.0   \n",
       "2019-04-29  106.000000  104.400002  105.199997  105.839996  2926300.0   \n",
       "2019-04-30  106.879997  105.440002  106.800003  106.320000  2096400.0   \n",
       "2019-05-01  106.480003  104.480003  106.239998  105.760002  3221400.0   \n",
       "\n",
       "             Adj Close  \n",
       "Date                    \n",
       "2019-04-25  108.239998  \n",
       "2019-04-26  104.720001  \n",
       "2019-04-29  105.839996  \n",
       "2019-04-30  106.320000  \n",
       "2019-05-01  105.760002  "
      ]
     },
     "execution_count": 114,
     "metadata": {},
     "output_type": "execute_result"
    }
   ],
   "source": [
    "new_data[\"USO\"]"
   ]
  },
  {
   "cell_type": "code",
   "execution_count": 113,
   "metadata": {},
   "outputs": [
    {
     "data": {
      "text/plain": [
       "pandas.core.frame.DataFrame"
      ]
     },
     "execution_count": 113,
     "metadata": {},
     "output_type": "execute_result"
    }
   ],
   "source": [
    "type(cached_data[\"USO\"])"
   ]
  },
  {
   "cell_type": "code",
   "execution_count": 129,
   "metadata": {},
   "outputs": [],
   "source": [
    "# merge new data to cached data (and Remove any duplicates)\n",
    "# append does not verify integrity of keys/index (using drop_duplicates)\n",
    "\n",
    "cached_data[\"USO\"] = (cached_data[\"USO\"].append(new_data[\"USO\"])).drop_duplicates()"
   ]
  },
  {
   "cell_type": "code",
   "execution_count": 130,
   "metadata": {},
   "outputs": [
    {
     "name": "stdout",
     "output_type": "stream",
     "text": [
      "                  High         Low        Open       Close     Volume  \\\n",
      "Date                                                                    \n",
      "2019-05-01  106.480003  104.480003  106.239998  105.760002  3221400.0   \n",
      "\n",
      "             Adj Close  \n",
      "Date                    \n",
      "2019-05-01  105.760002  \n"
     ]
    }
   ],
   "source": [
    "print(cached_data[\"USO\"].loc[\"2019-05-01\"])"
   ]
  },
  {
   "cell_type": "code",
   "execution_count": 137,
   "metadata": {},
   "outputs": [],
   "source": [
    "# sort the datetime index in Dataframe after the new append\n",
    "\n",
    "cached_data[\"USO\"] = cached_data[\"USO\"].sort_index()"
   ]
  },
  {
   "cell_type": "code",
   "execution_count": 138,
   "metadata": {},
   "outputs": [
    {
     "data": {
      "text/plain": [
       "DatetimeIndex(['2019-04-25', '2019-04-26', '2019-04-29', '2019-04-30',\n",
       "               '2019-05-01', '2019-05-02', '2019-05-03', '2019-05-06',\n",
       "               '2019-05-07', '2019-05-08',\n",
       "               ...\n",
       "               '2020-04-20', '2020-04-21', '2020-04-22', '2020-04-23',\n",
       "               '2020-04-24', '2020-04-27', '2020-04-28', '2020-04-29',\n",
       "               '2020-04-30', '2020-05-01'],\n",
       "              dtype='datetime64[ns]', name='Date', length=258, freq=None)"
      ]
     },
     "execution_count": 138,
     "metadata": {},
     "output_type": "execute_result"
    }
   ],
   "source": [
    "cached_data[\"USO\"].index"
   ]
  },
  {
   "cell_type": "code",
   "execution_count": 139,
   "metadata": {},
   "outputs": [],
   "source": [
    "dump_CacheData()"
   ]
  },
  {
   "cell_type": "code",
   "execution_count": null,
   "metadata": {},
   "outputs": [],
   "source": []
  }
 ],
 "metadata": {
  "kernelspec": {
   "display_name": "Python 3",
   "language": "python",
   "name": "python3"
  },
  "language_info": {
   "codemirror_mode": {
    "name": "ipython",
    "version": 3
   },
   "file_extension": ".py",
   "mimetype": "text/x-python",
   "name": "python",
   "nbconvert_exporter": "python",
   "pygments_lexer": "ipython3",
   "version": "3.6.8"
  }
 },
 "nbformat": 4,
 "nbformat_minor": 4
}
