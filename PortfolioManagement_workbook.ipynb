{
 "cells": [
  {
   "cell_type": "code",
   "execution_count": 2,
   "metadata": {},
   "outputs": [],
   "source": [
    "#This workbook is for practicing/creating financial charts and analysis\n",
    "#Base code from Seminar on \"Why Python is huge in finance? by Daniel Roos\" \n",
    "\n",
    "# To enable directory browsing on Home Page in Jupyter Notebook\n",
    "# Open anaconda cmd prompt, execute 'jupyter notebook --generate-config'\n",
    "# config file is created at C:\\Users\\[user]\\.jupyter\\\n",
    "# uncomment/enable the following flag and add directory path \n",
    "# c.NotebookApp.notebook_dir = 'C:\\\\[dir path here]' \n",
    "\n",
    "import os\n",
    "import random\n",
    "import pandas_datareader.data as web\n",
    "import pandas as pd\n",
    "import datetime\n",
    "import numpy as np\n",
    "from ipywidgets import interact, fixed, IntSlider\n",
    "import matplotlib.pyplot as plt\n",
    "from numpy.linalg import cholesky\n",
    "import seaborn as sns\n",
    "\n",
    "#cache data for period\n",
    "all_data_start, all_data_end = '2019-05-01','2020-05-01'\n",
    "# By default work with adta in this period\n",
    "default_start, default_end = '2019-03-15','2020-05-01'\n",
    "\n",
    "\n"
   ]
  },
  {
   "cell_type": "code",
   "execution_count": 26,
   "metadata": {},
   "outputs": [],
   "source": [
    "#set up the Quandl Api Key (need to be executed once - can use python cmd promt)\n",
    "#os.environ['QUANDL_API_KEY'] = \"Key Here\""
   ]
  },
  {
   "cell_type": "markdown",
   "metadata": {},
   "source": [
    "Get Stock Data"
   ]
  },
  {
   "cell_type": "code",
   "execution_count": 3,
   "metadata": {},
   "outputs": [],
   "source": [
    "#pandas datareader\n",
    "aapl = web.DataReader('AAPL.US', 'quandl', '2015-01-01', '2016-01-01')"
   ]
  },
  {
   "cell_type": "code",
   "execution_count": 4,
   "metadata": {
    "scrolled": true
   },
   "outputs": [
    {
     "data": {
      "text/html": [
       "<div>\n",
       "<style scoped>\n",
       "    .dataframe tbody tr th:only-of-type {\n",
       "        vertical-align: middle;\n",
       "    }\n",
       "\n",
       "    .dataframe tbody tr th {\n",
       "        vertical-align: top;\n",
       "    }\n",
       "\n",
       "    .dataframe thead th {\n",
       "        text-align: right;\n",
       "    }\n",
       "</style>\n",
       "<table border=\"1\" class=\"dataframe\">\n",
       "  <thead>\n",
       "    <tr style=\"text-align: right;\">\n",
       "      <th></th>\n",
       "      <th>Open</th>\n",
       "      <th>High</th>\n",
       "      <th>Low</th>\n",
       "      <th>Close</th>\n",
       "      <th>Volume</th>\n",
       "      <th>ExDividend</th>\n",
       "      <th>SplitRatio</th>\n",
       "      <th>AdjOpen</th>\n",
       "      <th>AdjHigh</th>\n",
       "      <th>AdjLow</th>\n",
       "      <th>AdjClose</th>\n",
       "      <th>AdjVolume</th>\n",
       "    </tr>\n",
       "    <tr>\n",
       "      <th>Date</th>\n",
       "      <th></th>\n",
       "      <th></th>\n",
       "      <th></th>\n",
       "      <th></th>\n",
       "      <th></th>\n",
       "      <th></th>\n",
       "      <th></th>\n",
       "      <th></th>\n",
       "      <th></th>\n",
       "      <th></th>\n",
       "      <th></th>\n",
       "      <th></th>\n",
       "    </tr>\n",
       "  </thead>\n",
       "  <tbody>\n",
       "    <tr>\n",
       "      <th>2015-12-31</th>\n",
       "      <td>107.01</td>\n",
       "      <td>107.03</td>\n",
       "      <td>104.8200</td>\n",
       "      <td>105.26</td>\n",
       "      <td>40912316.0</td>\n",
       "      <td>0.0</td>\n",
       "      <td>1.0</td>\n",
       "      <td>103.387570</td>\n",
       "      <td>103.406893</td>\n",
       "      <td>101.271705</td>\n",
       "      <td>101.696810</td>\n",
       "      <td>40912316.0</td>\n",
       "    </tr>\n",
       "    <tr>\n",
       "      <th>2015-12-30</th>\n",
       "      <td>108.58</td>\n",
       "      <td>108.70</td>\n",
       "      <td>107.1800</td>\n",
       "      <td>107.32</td>\n",
       "      <td>25213777.0</td>\n",
       "      <td>0.0</td>\n",
       "      <td>1.0</td>\n",
       "      <td>104.904424</td>\n",
       "      <td>105.020361</td>\n",
       "      <td>103.551815</td>\n",
       "      <td>103.687076</td>\n",
       "      <td>25213777.0</td>\n",
       "    </tr>\n",
       "    <tr>\n",
       "      <th>2015-12-29</th>\n",
       "      <td>106.96</td>\n",
       "      <td>109.43</td>\n",
       "      <td>106.8600</td>\n",
       "      <td>108.74</td>\n",
       "      <td>30931243.0</td>\n",
       "      <td>0.0</td>\n",
       "      <td>1.0</td>\n",
       "      <td>103.339263</td>\n",
       "      <td>105.725650</td>\n",
       "      <td>103.242648</td>\n",
       "      <td>105.059007</td>\n",
       "      <td>30931243.0</td>\n",
       "    </tr>\n",
       "    <tr>\n",
       "      <th>2015-12-28</th>\n",
       "      <td>107.59</td>\n",
       "      <td>107.69</td>\n",
       "      <td>106.1807</td>\n",
       "      <td>106.82</td>\n",
       "      <td>26704210.0</td>\n",
       "      <td>0.0</td>\n",
       "      <td>1.0</td>\n",
       "      <td>103.947936</td>\n",
       "      <td>104.044551</td>\n",
       "      <td>102.586343</td>\n",
       "      <td>103.204002</td>\n",
       "      <td>26704210.0</td>\n",
       "    </tr>\n",
       "    <tr>\n",
       "      <th>2015-12-24</th>\n",
       "      <td>109.00</td>\n",
       "      <td>109.00</td>\n",
       "      <td>107.9500</td>\n",
       "      <td>108.03</td>\n",
       "      <td>13596680.0</td>\n",
       "      <td>0.0</td>\n",
       "      <td>1.0</td>\n",
       "      <td>105.310206</td>\n",
       "      <td>105.310206</td>\n",
       "      <td>104.295750</td>\n",
       "      <td>104.373042</td>\n",
       "      <td>13596680.0</td>\n",
       "    </tr>\n",
       "  </tbody>\n",
       "</table>\n",
       "</div>"
      ],
      "text/plain": [
       "              Open    High       Low   Close      Volume  ExDividend  \\\n",
       "Date                                                                   \n",
       "2015-12-31  107.01  107.03  104.8200  105.26  40912316.0         0.0   \n",
       "2015-12-30  108.58  108.70  107.1800  107.32  25213777.0         0.0   \n",
       "2015-12-29  106.96  109.43  106.8600  108.74  30931243.0         0.0   \n",
       "2015-12-28  107.59  107.69  106.1807  106.82  26704210.0         0.0   \n",
       "2015-12-24  109.00  109.00  107.9500  108.03  13596680.0         0.0   \n",
       "\n",
       "            SplitRatio     AdjOpen     AdjHigh      AdjLow    AdjClose  \\\n",
       "Date                                                                     \n",
       "2015-12-31         1.0  103.387570  103.406893  101.271705  101.696810   \n",
       "2015-12-30         1.0  104.904424  105.020361  103.551815  103.687076   \n",
       "2015-12-29         1.0  103.339263  105.725650  103.242648  105.059007   \n",
       "2015-12-28         1.0  103.947936  104.044551  102.586343  103.204002   \n",
       "2015-12-24         1.0  105.310206  105.310206  104.295750  104.373042   \n",
       "\n",
       "             AdjVolume  \n",
       "Date                    \n",
       "2015-12-31  40912316.0  \n",
       "2015-12-30  25213777.0  \n",
       "2015-12-29  30931243.0  \n",
       "2015-12-28  26704210.0  \n",
       "2015-12-24  13596680.0  "
      ]
     },
     "execution_count": 4,
     "metadata": {},
     "output_type": "execute_result"
    }
   ],
   "source": [
    "aapl.head()"
   ]
  },
  {
   "cell_type": "code",
   "execution_count": 5,
   "metadata": {},
   "outputs": [
    {
     "data": {
      "text/plain": [
       "<matplotlib.axes._subplots.AxesSubplot at 0x26ae4ad53c8>"
      ]
     },
     "execution_count": 5,
     "metadata": {},
     "output_type": "execute_result"
    },
    {
     "data": {
      "image/png": "[encoded data removed]",
      "text/plain": [
       "<Figure size 432x288 with 1 Axes>"
      ]
     },
     "metadata": {},
     "output_type": "display_data"
    }
   ],
   "source": [
    "aapl.Close.plot()\n",
    "\n",
    "#To take account of stock split use AdjClose \n",
    "#aapl.AdjClose.plot()"
   ]
  },
  {
   "cell_type": "code",
   "execution_count": 37,
   "metadata": {},
   "outputs": [],
   "source": [
    "#not available in quandl\n",
    "#uso = web.DataReader('T.US', 'quandl', '2019-01-01', '2019-05-01')"
   ]
  },
  {
   "cell_type": "code",
   "execution_count": 3,
   "metadata": {},
   "outputs": [],
   "source": [
    "#using yfinance instead\n",
    "import yfinance as yf\n",
    "\n",
    "uso = yf.Ticker(\"USO\")\n",
    "hist = uso.history(period=\"1y\")"
   ]
  },
  {
   "cell_type": "code",
   "execution_count": 5,
   "metadata": {},
   "outputs": [
    {
     "data": {
      "text/plain": [
       "<matplotlib.axes._subplots.AxesSubplot at 0x16ee034bef0>"
      ]
     },
     "execution_count": 5,
     "metadata": {},
     "output_type": "execute_result"
    },
    {
     "data": {
      "image/png": "[encoded data removed]",
      "text/plain": [
       "<Figure size 432x288 with 1 Axes>"
      ]
     },
     "metadata": {},
     "output_type": "display_data"
    }
   ],
   "source": [
    "# this is already adjusted for stock splits\n",
    "\n",
    "hist['Close'].plot()\n",
    "#hist['Close'].plot(figsize=(16, 9))"
   ]
  },
  {
   "cell_type": "code",
   "execution_count": null,
   "metadata": {},
   "outputs": [],
   "source": []
  }
 ],
 "metadata": {
  "kernelspec": {
   "display_name": "Python 3",
   "language": "python",
   "name": "python3"
  },
  "language_info": {
   "codemirror_mode": {
    "name": "ipython",
    "version": 3
   },
   "file_extension": ".py",
   "mimetype": "text/x-python",
   "name": "python",
   "nbconvert_exporter": "python",
   "pygments_lexer": "ipython3",
   "version": "3.6.8"
  }
 },
 "nbformat": 4,
 "nbformat_minor": 4
}
